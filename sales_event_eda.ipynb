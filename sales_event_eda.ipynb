{
 "cells": [
  {
   "cell_type": "code",
   "execution_count": 16,
   "metadata": {
    "collapsed": true
   },
   "outputs": [],
   "source": [
    "import pandas as pd\n",
    "import matplotlib.pyplot as plt\n",
    "%matplotlib inline\n",
    "from statsmodels.regression.linear_model import OLS\n",
    "import statsmodels.api as sm"
   ]
  },
  {
   "cell_type": "code",
   "execution_count": 2,
   "metadata": {
    "collapsed": false
   },
   "outputs": [],
   "source": [
    "sales = pd.read_csv('data/01 Sales Data.csv', index_col='Insta Username')\n",
    "event = pd.read_csv('data/3blondedogs.csv')"
   ]
  },
  {
   "cell_type": "code",
   "execution_count": 3,
   "metadata": {
    "collapsed": false
   },
   "outputs": [
    {
     "data": {
      "text/html": [
       "<div>\n",
       "<table border=\"1\" class=\"dataframe\">\n",
       "  <thead>\n",
       "    <tr style=\"text-align: right;\">\n",
       "      <th></th>\n",
       "      <th>Date Campaign Ended</th>\n",
       "      <th>Campaign Name</th>\n",
       "      <th>Amount Raised</th>\n",
       "      <th>Charity</th>\n",
       "      <th>Followers</th>\n",
       "      <th>Instagram URL</th>\n",
       "    </tr>\n",
       "    <tr>\n",
       "      <th>Insta Username</th>\n",
       "      <th></th>\n",
       "      <th></th>\n",
       "      <th></th>\n",
       "      <th></th>\n",
       "      <th></th>\n",
       "      <th></th>\n",
       "    </tr>\n",
       "  </thead>\n",
       "  <tbody>\n",
       "    <tr>\n",
       "      <th>chinnybuddy</th>\n",
       "      <td>2/13/15</td>\n",
       "      <td>Mr Bagel Ankle Socks</td>\n",
       "      <td>432</td>\n",
       "      <td>Mr Bagel Instagram</td>\n",
       "      <td>88134</td>\n",
       "      <td>https://instagram.com/chinnybuddy/</td>\n",
       "    </tr>\n",
       "    <tr>\n",
       "      <th>otterthepitbull</th>\n",
       "      <td>3/20/15</td>\n",
       "      <td>Otter the Pit Bull Socks</td>\n",
       "      <td>543.5</td>\n",
       "      <td>Otter the Pit Bull Instagram</td>\n",
       "      <td>10941</td>\n",
       "      <td>https://instagram.com/otterthepitbull/</td>\n",
       "    </tr>\n",
       "    <tr>\n",
       "      <th>piratethefrenchie</th>\n",
       "      <td>4/9/15</td>\n",
       "      <td>Pirate the Frenchy Socks</td>\n",
       "      <td>2676</td>\n",
       "      <td>Pirate the Frenchie Instagram</td>\n",
       "      <td>11109</td>\n",
       "      <td>https://instagram.com/piratethefrenchie/</td>\n",
       "    </tr>\n",
       "    <tr>\n",
       "      <th>chickopug</th>\n",
       "      <td>4/14/15</td>\n",
       "      <td>Chicko Pug Socks</td>\n",
       "      <td>323.5</td>\n",
       "      <td>Chicko Pug Instagram</td>\n",
       "      <td>20678</td>\n",
       "      <td>https://instagram.com/chickopug/</td>\n",
       "    </tr>\n",
       "    <tr>\n",
       "      <th>prairiedogpack</th>\n",
       "      <td>4/30/15</td>\n",
       "      <td>Bing Prairie Dog Socks</td>\n",
       "      <td>945.25</td>\n",
       "      <td>Bing Prairie Dog Instagram</td>\n",
       "      <td>43923</td>\n",
       "      <td>https://instagram.com/prairiedogpack/</td>\n",
       "    </tr>\n",
       "  </tbody>\n",
       "</table>\n",
       "</div>"
      ],
      "text/plain": [
       "                  Date Campaign Ended             Campaign Name Amount Raised  \\\n",
       "Insta Username                                                                  \n",
       "chinnybuddy                   2/13/15      Mr Bagel Ankle Socks           432   \n",
       "otterthepitbull               3/20/15  Otter the Pit Bull Socks         543.5   \n",
       "piratethefrenchie              4/9/15  Pirate the Frenchy Socks          2676   \n",
       "chickopug                     4/14/15          Chicko Pug Socks         323.5   \n",
       "prairiedogpack                4/30/15    Bing Prairie Dog Socks        945.25   \n",
       "\n",
       "                                         Charity  Followers  \\\n",
       "Insta Username                                                \n",
       "chinnybuddy                   Mr Bagel Instagram      88134   \n",
       "otterthepitbull     Otter the Pit Bull Instagram      10941   \n",
       "piratethefrenchie  Pirate the Frenchie Instagram      11109   \n",
       "chickopug                   Chicko Pug Instagram      20678   \n",
       "prairiedogpack        Bing Prairie Dog Instagram      43923   \n",
       "\n",
       "                                              Instagram URL  \n",
       "Insta Username                                               \n",
       "chinnybuddy              https://instagram.com/chinnybuddy/  \n",
       "otterthepitbull      https://instagram.com/otterthepitbull/  \n",
       "piratethefrenchie  https://instagram.com/piratethefrenchie/  \n",
       "chickopug                  https://instagram.com/chickopug/  \n",
       "prairiedogpack        https://instagram.com/prairiedogpack/  "
      ]
     },
     "execution_count": 3,
     "metadata": {},
     "output_type": "execute_result"
    }
   ],
   "source": [
    "sales.head()"
   ]
  },
  {
   "cell_type": "code",
   "execution_count": 4,
   "metadata": {
    "collapsed": false
   },
   "outputs": [
    {
     "data": {
      "text/html": [
       "<div>\n",
       "<table border=\"1\" class=\"dataframe\">\n",
       "  <thead>\n",
       "    <tr style=\"text-align: right;\">\n",
       "      <th></th>\n",
       "      <th>image url</th>\n",
       "      <th>id</th>\n",
       "      <th>likes</th>\n",
       "      <th>num comments</th>\n",
       "      <th>shares</th>\n",
       "      <th>likes + comment /shares</th>\n",
       "    </tr>\n",
       "  </thead>\n",
       "  <tbody>\n",
       "    <tr>\n",
       "      <th>0</th>\n",
       "      <td>https://scontent.cdninstagram.com/hphotos-xaf1...</td>\n",
       "      <td>1018209090011549326_1261998474</td>\n",
       "      <td>350</td>\n",
       "      <td>9</td>\n",
       "      <td>6</td>\n",
       "      <td>59.833333</td>\n",
       "    </tr>\n",
       "    <tr>\n",
       "      <th>1</th>\n",
       "      <td>https://scontent.cdninstagram.com/hphotos-xaf1...</td>\n",
       "      <td>1017067178491792738_1261998474</td>\n",
       "      <td>664</td>\n",
       "      <td>9</td>\n",
       "      <td>0</td>\n",
       "      <td>0.000000</td>\n",
       "    </tr>\n",
       "    <tr>\n",
       "      <th>2</th>\n",
       "      <td>https://scontent.cdninstagram.com/hphotos-xaf1...</td>\n",
       "      <td>1017064389279632657_1261998474</td>\n",
       "      <td>665</td>\n",
       "      <td>3</td>\n",
       "      <td>0</td>\n",
       "      <td>0.000000</td>\n",
       "    </tr>\n",
       "    <tr>\n",
       "      <th>3</th>\n",
       "      <td>https://scontent.cdninstagram.com/hphotos-xfa1...</td>\n",
       "      <td>1017058635223026827_1261998474</td>\n",
       "      <td>630</td>\n",
       "      <td>7</td>\n",
       "      <td>5</td>\n",
       "      <td>127.400000</td>\n",
       "    </tr>\n",
       "    <tr>\n",
       "      <th>4</th>\n",
       "      <td>https://scontent.cdninstagram.com/hphotos-xfa1...</td>\n",
       "      <td>1016178560906710836_1261998474</td>\n",
       "      <td>752</td>\n",
       "      <td>6</td>\n",
       "      <td>5</td>\n",
       "      <td>151.600000</td>\n",
       "    </tr>\n",
       "  </tbody>\n",
       "</table>\n",
       "</div>"
      ],
      "text/plain": [
       "                                           image url  \\\n",
       "0  https://scontent.cdninstagram.com/hphotos-xaf1...   \n",
       "1  https://scontent.cdninstagram.com/hphotos-xaf1...   \n",
       "2  https://scontent.cdninstagram.com/hphotos-xaf1...   \n",
       "3  https://scontent.cdninstagram.com/hphotos-xfa1...   \n",
       "4  https://scontent.cdninstagram.com/hphotos-xfa1...   \n",
       "\n",
       "                               id  likes  num comments  shares  \\\n",
       "0  1018209090011549326_1261998474    350             9       6   \n",
       "1  1017067178491792738_1261998474    664             9       0   \n",
       "2  1017064389279632657_1261998474    665             3       0   \n",
       "3  1017058635223026827_1261998474    630             7       5   \n",
       "4  1016178560906710836_1261998474    752             6       5   \n",
       "\n",
       "   likes + comment /shares  \n",
       "0                59.833333  \n",
       "1                 0.000000  \n",
       "2                 0.000000  \n",
       "3               127.400000  \n",
       "4               151.600000  "
      ]
     },
     "execution_count": 4,
     "metadata": {},
     "output_type": "execute_result"
    }
   ],
   "source": [
    "event.head()"
   ]
  },
  {
   "cell_type": "code",
   "execution_count": 5,
   "metadata": {
    "collapsed": false
   },
   "outputs": [
    {
     "data": {
      "text/plain": [
       "likes                      22265.000000\n",
       "num comments                 471.000000\n",
       "shares                        83.000000\n",
       "likes + comment /shares     6821.366667\n",
       "total_images                  33.000000\n",
       "dtype: float64"
      ]
     },
     "execution_count": 5,
     "metadata": {},
     "output_type": "execute_result"
    }
   ],
   "source": [
    "event_sum = event[['likes', 'num comments', 'shares', 'likes + comment /shares']].sum()\n",
    "event_sum['total_images'] = event.count()[0]\n",
    "event_sum"
   ]
  },
  {
   "cell_type": "code",
   "execution_count": 6,
   "metadata": {
    "collapsed": false
   },
   "outputs": [],
   "source": [
    "insta = sales.index.tolist()"
   ]
  },
  {
   "cell_type": "code",
   "execution_count": 20,
   "metadata": {
    "collapsed": false
   },
   "outputs": [
    {
     "name": "stdout",
     "output_type": "stream",
     "text": [
      "Date Campaign Ended                               4/30/15\n",
      "Campaign Name                           3BullDogges Socks\n",
      "Amount Raised                                       566.4\n",
      "Charity                             3Bulldogges Instagram\n",
      "Followers                                          189833\n",
      "Instagram URL          https://instagram.com/3bulldogges/\n",
      "Name: 3bulldogges, dtype: object\n",
      "Date Campaign Ended                               4/30/15\n",
      "Campaign Name                           3BullDogges Socks\n",
      "Amount Raised                                       566.4\n",
      "Charity                             3Bulldogges Instagram\n",
      "Followers                                          189833\n",
      "Instagram URL          https://instagram.com/3bulldogges/\n",
      "Name: 3bulldogges, dtype: object\n"
     ]
    }
   ],
   "source": [
    "event_df = pd.DataFrame(columns=['name', 'likes', 'num comments', 'shares', 'likes + comment /shares', \n",
    "                                 'total_images', 'amount_raised', 'followers'])\n",
    "\n",
    "for i, user in enumerate(insta):\n",
    "    file_name = 'data/' + user + '.csv'\n",
    "    event = pd.read_csv(file_name)\n",
    "    event_sum = event[['likes', 'num comments', 'shares', 'likes + comment /shares']].sum()\n",
    "    event_sum['name'] = user\n",
    "    event_sum['total_images'] = event.count()[0]\n",
    "    sales_user = sales.ix[user]\n",
    "    if user == '3bulldogges':\n",
    "        sales_user = sales_user.iloc[0, :]\n",
    "        print sales_user\n",
    "\n",
    "    event_sum['amount_raised'] = sales_user['Amount Raised']\n",
    "    event_sum['followers'] = sales_user['Followers']\n",
    "    event_df.loc[i] = event_sum"
   ]
  },
  {
   "cell_type": "code",
   "execution_count": 21,
   "metadata": {
    "collapsed": true
   },
   "outputs": [],
   "source": [
    "event_df['amount_raised'] = event_df['amount_raised'].apply(lambda x: float(x.replace(',', '')))\n",
    "event_df['followers'] = event_df['followers'].astype(int)"
   ]
  },
  {
   "cell_type": "code",
   "execution_count": 63,
   "metadata": {
    "collapsed": false
   },
   "outputs": [],
   "source": [
    "event_df['likes/followers'] = event_df['likes'] / event_df['followers']"
   ]
  },
  {
   "cell_type": "code",
   "execution_count": 64,
   "metadata": {
    "collapsed": true
   },
   "outputs": [],
   "source": [
    "amount_cond = event_df['amount_raised'] < 5000\n",
    "event_df = event_df.loc[amount_cond, :]"
   ]
  },
  {
   "cell_type": "code",
   "execution_count": 65,
   "metadata": {
    "collapsed": false
   },
   "outputs": [
    {
     "data": {
      "text/html": [
       "<div>\n",
       "<table border=\"1\" class=\"dataframe\">\n",
       "  <thead>\n",
       "    <tr style=\"text-align: right;\">\n",
       "      <th></th>\n",
       "      <th>name</th>\n",
       "      <th>likes</th>\n",
       "      <th>num comments</th>\n",
       "      <th>shares</th>\n",
       "      <th>likes + comment /shares</th>\n",
       "      <th>total_images</th>\n",
       "      <th>amount_raised</th>\n",
       "      <th>followers</th>\n",
       "      <th>likes/followers</th>\n",
       "      <th>comments/followers</th>\n",
       "    </tr>\n",
       "  </thead>\n",
       "  <tbody>\n",
       "    <tr>\n",
       "      <th>0</th>\n",
       "      <td>chinnybuddy</td>\n",
       "      <td>104492</td>\n",
       "      <td>2351</td>\n",
       "      <td>1833</td>\n",
       "      <td>3440.195694</td>\n",
       "      <td>33</td>\n",
       "      <td>432.00</td>\n",
       "      <td>88134</td>\n",
       "      <td>1.185604</td>\n",
       "      <td>0.026675</td>\n",
       "    </tr>\n",
       "    <tr>\n",
       "      <th>1</th>\n",
       "      <td>otterthepitbull</td>\n",
       "      <td>18932</td>\n",
       "      <td>543</td>\n",
       "      <td>357</td>\n",
       "      <td>2851.066501</td>\n",
       "      <td>33</td>\n",
       "      <td>543.50</td>\n",
       "      <td>10941</td>\n",
       "      <td>1.730372</td>\n",
       "      <td>0.049630</td>\n",
       "    </tr>\n",
       "    <tr>\n",
       "      <th>2</th>\n",
       "      <td>piratethefrenchie</td>\n",
       "      <td>14668</td>\n",
       "      <td>543</td>\n",
       "      <td>213</td>\n",
       "      <td>3145.489309</td>\n",
       "      <td>33</td>\n",
       "      <td>2676.00</td>\n",
       "      <td>11109</td>\n",
       "      <td>1.320371</td>\n",
       "      <td>0.048879</td>\n",
       "    </tr>\n",
       "    <tr>\n",
       "      <th>3</th>\n",
       "      <td>chickopug</td>\n",
       "      <td>40378</td>\n",
       "      <td>1084</td>\n",
       "      <td>897</td>\n",
       "      <td>3220.200623</td>\n",
       "      <td>33</td>\n",
       "      <td>323.50</td>\n",
       "      <td>20678</td>\n",
       "      <td>1.952703</td>\n",
       "      <td>0.052423</td>\n",
       "    </tr>\n",
       "    <tr>\n",
       "      <th>4</th>\n",
       "      <td>prairiedogpack</td>\n",
       "      <td>98374</td>\n",
       "      <td>6183</td>\n",
       "      <td>4089</td>\n",
       "      <td>953.002784</td>\n",
       "      <td>33</td>\n",
       "      <td>945.25</td>\n",
       "      <td>43923</td>\n",
       "      <td>2.239692</td>\n",
       "      <td>0.140769</td>\n",
       "    </tr>\n",
       "  </tbody>\n",
       "</table>\n",
       "</div>"
      ],
      "text/plain": [
       "                name   likes  num comments  shares  likes + comment /shares  \\\n",
       "0        chinnybuddy  104492          2351    1833              3440.195694   \n",
       "1    otterthepitbull   18932           543     357              2851.066501   \n",
       "2  piratethefrenchie   14668           543     213              3145.489309   \n",
       "3          chickopug   40378          1084     897              3220.200623   \n",
       "4     prairiedogpack   98374          6183    4089               953.002784   \n",
       "\n",
       "   total_images  amount_raised  followers  likes/followers  comments/followers  \n",
       "0            33         432.00      88134         1.185604            0.026675  \n",
       "1            33         543.50      10941         1.730372            0.049630  \n",
       "2            33        2676.00      11109         1.320371            0.048879  \n",
       "3            33         323.50      20678         1.952703            0.052423  \n",
       "4            33         945.25      43923         2.239692            0.140769  "
      ]
     },
     "execution_count": 65,
     "metadata": {},
     "output_type": "execute_result"
    }
   ],
   "source": [
    "event_df.head()"
   ]
  },
  {
   "cell_type": "code",
   "execution_count": 66,
   "metadata": {
    "collapsed": false
   },
   "outputs": [
    {
     "data": {
      "text/plain": [
       "Index([u'name', u'likes', u'num comments', u'shares',\n",
       "       u'likes + comment /shares', u'total_images', u'amount_raised',\n",
       "       u'followers', u'likes/followers', u'comments/followers'],\n",
       "      dtype='object')"
      ]
     },
     "execution_count": 66,
     "metadata": {},
     "output_type": "execute_result"
    }
   ],
   "source": [
    "event_df.columns"
   ]
  },
  {
   "cell_type": "code",
   "execution_count": 67,
   "metadata": {
    "collapsed": true
   },
   "outputs": [],
   "source": [
    "# X = event_df[ ['likes', 'num comments', 'shares',\n",
    "#        'likes + comment /shares', 'followers'] ]\n",
    "\n",
    "X = event_df[ ['likes/followers'] ]\n",
    "y = event_df['amount_raised']\n",
    "X = sm.add_constant(X)"
   ]
  },
  {
   "cell_type": "code",
   "execution_count": 68,
   "metadata": {
    "collapsed": false
   },
   "outputs": [
    {
     "data": {
      "text/html": [
       "<table class=\"simpletable\">\n",
       "<caption>OLS Regression Results</caption>\n",
       "<tr>\n",
       "  <th>Dep. Variable:</th>      <td>amount_raised</td>  <th>  R-squared:         </th> <td>   0.059</td>\n",
       "</tr>\n",
       "<tr>\n",
       "  <th>Model:</th>                   <td>OLS</td>       <th>  Adj. R-squared:    </th> <td>   0.026</td>\n",
       "</tr>\n",
       "<tr>\n",
       "  <th>Method:</th>             <td>Least Squares</td>  <th>  F-statistic:       </th> <td>   1.767</td>\n",
       "</tr>\n",
       "<tr>\n",
       "  <th>Date:</th>             <td>Tue, 21 Jul 2015</td> <th>  Prob (F-statistic):</th>  <td> 0.195</td> \n",
       "</tr>\n",
       "<tr>\n",
       "  <th>Time:</th>                 <td>09:26:06</td>     <th>  Log-Likelihood:    </th> <td> -233.70</td>\n",
       "</tr>\n",
       "<tr>\n",
       "  <th>No. Observations:</th>      <td>    30</td>      <th>  AIC:               </th> <td>   471.4</td>\n",
       "</tr>\n",
       "<tr>\n",
       "  <th>Df Residuals:</th>          <td>    28</td>      <th>  BIC:               </th> <td>   474.2</td>\n",
       "</tr>\n",
       "<tr>\n",
       "  <th>Df Model:</th>              <td>     1</td>      <th>                     </th>     <td> </td>   \n",
       "</tr>\n",
       "<tr>\n",
       "  <th>Covariance Type:</th>      <td>nonrobust</td>    <th>                     </th>     <td> </td>   \n",
       "</tr>\n",
       "</table>\n",
       "<table class=\"simpletable\">\n",
       "<tr>\n",
       "         <td></td>            <th>coef</th>     <th>std err</th>      <th>t</th>      <th>P>|t|</th> <th>[95.0% Conf. Int.]</th> \n",
       "</tr>\n",
       "<tr>\n",
       "  <th>const</th>           <td>  284.7102</td> <td>  345.102</td> <td>    0.825</td> <td> 0.416</td> <td> -422.199   991.619</td>\n",
       "</tr>\n",
       "<tr>\n",
       "  <th>likes/followers</th> <td>  294.5814</td> <td>  221.640</td> <td>    1.329</td> <td> 0.195</td> <td> -159.428   748.590</td>\n",
       "</tr>\n",
       "</table>\n",
       "<table class=\"simpletable\">\n",
       "<tr>\n",
       "  <th>Omnibus:</th>       <td>21.338</td> <th>  Durbin-Watson:     </th> <td>   2.250</td>\n",
       "</tr>\n",
       "<tr>\n",
       "  <th>Prob(Omnibus):</th> <td> 0.000</td> <th>  Jarque-Bera (JB):  </th> <td>  28.641</td>\n",
       "</tr>\n",
       "<tr>\n",
       "  <th>Skew:</th>          <td> 1.842</td> <th>  Prob(JB):          </th> <td>6.04e-07</td>\n",
       "</tr>\n",
       "<tr>\n",
       "  <th>Kurtosis:</th>      <td> 6.056</td> <th>  Cond. No.          </th> <td>    6.72</td>\n",
       "</tr>\n",
       "</table>"
      ],
      "text/plain": [
       "<class 'statsmodels.iolib.summary.Summary'>\n",
       "\"\"\"\n",
       "                            OLS Regression Results                            \n",
       "==============================================================================\n",
       "Dep. Variable:          amount_raised   R-squared:                       0.059\n",
       "Model:                            OLS   Adj. R-squared:                  0.026\n",
       "Method:                 Least Squares   F-statistic:                     1.767\n",
       "Date:                Tue, 21 Jul 2015   Prob (F-statistic):              0.195\n",
       "Time:                        09:26:06   Log-Likelihood:                -233.70\n",
       "No. Observations:                  30   AIC:                             471.4\n",
       "Df Residuals:                      28   BIC:                             474.2\n",
       "Df Model:                           1                                         \n",
       "Covariance Type:            nonrobust                                         \n",
       "===================================================================================\n",
       "                      coef    std err          t      P>|t|      [95.0% Conf. Int.]\n",
       "-----------------------------------------------------------------------------------\n",
       "const             284.7102    345.102      0.825      0.416      -422.199   991.619\n",
       "likes/followers   294.5814    221.640      1.329      0.195      -159.428   748.590\n",
       "==============================================================================\n",
       "Omnibus:                       21.338   Durbin-Watson:                   2.250\n",
       "Prob(Omnibus):                  0.000   Jarque-Bera (JB):               28.641\n",
       "Skew:                           1.842   Prob(JB):                     6.04e-07\n",
       "Kurtosis:                       6.056   Cond. No.                         6.72\n",
       "==============================================================================\n",
       "\n",
       "Warnings:\n",
       "[1] Standard Errors assume that the covariance matrix of the errors is correctly specified.\n",
       "\"\"\""
      ]
     },
     "execution_count": 68,
     "metadata": {},
     "output_type": "execute_result"
    }
   ],
   "source": [
    "model = OLS(y, X)\n",
    "model = model.fit()\n",
    "model.summary()"
   ]
  },
  {
   "cell_type": "code",
   "execution_count": 69,
   "metadata": {
    "collapsed": false
   },
   "outputs": [
    {
     "data": {
      "image/png": "[encoded data removed]",
      "text/plain": [
       "<matplotlib.figure.Figure at 0x18d94710>"
      ]
     },
     "metadata": {},
     "output_type": "display_data"
    }
   ],
   "source": [
    "plt.scatter(event_df['likes/followers'], event_df['amount_raised'])\n",
    "plt.show()"
   ]
  },
  {
   "cell_type": "code",
   "execution_count": null,
   "metadata": {
    "collapsed": true
   },
   "outputs": [],
   "source": []
  }
 ],
 "metadata": {
  "kernelspec": {
   "display_name": "Python 2",
   "language": "python",
   "name": "python2"
  },
  "language_info": {
   "codemirror_mode": {
    "name": "ipython",
    "version": 2
   },
   "file_extension": ".py",
   "mimetype": "text/x-python",
   "name": "python",
   "nbconvert_exporter": "python",
   "pygments_lexer": "ipython2",
   "version": "2.7.9"
  }
 },
 "nbformat": 4,
 "nbformat_minor": 0
}
